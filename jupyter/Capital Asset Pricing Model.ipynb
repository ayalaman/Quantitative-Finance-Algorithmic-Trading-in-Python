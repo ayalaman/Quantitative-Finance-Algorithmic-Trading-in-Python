{
 "cells": [
  {
   "cell_type": "markdown",
   "metadata": {},
   "source": [
    "# Capital Asset Pricing Model\n",
    "\n",
    "Markowitz-model work fine, BUT we can not get rid of all risk by diversification!\n",
    "\n",
    "_*There are two types of risk:*_\n",
    "1. Unsystematic risk: \"Specific Risk\" - This is the risk specific to individual stocks. It can be diversified away by incresing the number of stocks in the portfolio\n",
    "\n",
    "**Unsystematic Risk is the component of a stock's return that is not correlated with market moves**\n",
    "\n",
    "2. Systematic Risk: \"Market Risk\" - This risk can not be diversified away. For example: interest rates, recession or wat\n",
    "\n",
    "**Capital Risk Pricing Model measures this risk**\n",
    "<hr style=\"height: 3px;\">\n",
    "\n",
    "## Expected Return\n",
    "It was formulated in the early 1960s by Sharpe and his colleagues\n",
    "\n",
    "**Note: ** We use SPY500 as a represention of them arket as a whole\n",
    "\n",
    "\n",
    "$E[r_a] = r_f + \\beta_a(E[r_m]-r_f)$\n",
    "\n",
    "- $E[r_a]$ = The expected return of investment: it may be a single stock or a portfolio *effecient or not it does not matter*\n",
    "\n",
    "- $r_f$ = Base return because of risk-free rate\n",
    "- $\\beta_a(E[r_m]-r_f)$ = Market excess return multiplied by a factor *(beta)*\n",
    "\n",
    "**Linear relationship between any stock expected return and market premium!**\n",
    "\n",
    "$\\beta_a = \\frac{Cov(r_a,r_m)}{Var(r_m)}$\n",
    "\n",
    "- According to **CAPM** *beta* is the only relevant measure of a stock's risk\n",
    "- Measures the stock's relative volatility: how much the price of a given stock goes up/down compared to that of the whole market\n",
    "\n",
    "<hr style=\"height: 3px;\">\n",
    "\n",
    "## Beta Value\n",
    "\n",
    "$\\beta_a = \\frac{Cov(r_a,r_m)}{Var(r_m)}$\n",
    "\n",
    "beta = how risky your portfolio is relative to the market\n",
    "\n",
    "- If your portfolio has no risk: your expected return is the risk-free return\n",
    "\n",
    "- If your portfolio is more risky than the market: your expected return will be higher\n",
    "\n",
    "- If you portfolio is less rsky than the market: your expected return will be less\n",
    "\n",
    "We know how to calculate the $\\beta$ value for a single stock: \n",
    "- Just calculate the covariance between stock and market (SPY500) over the variance of the market\n",
    "$~~~\\beta_a = \\frac{Cov(r_a,r_m)}{Var(r_m)}$\n",
    "\n",
    "***How to deal with a portfolio containing several stocks?***\n",
    "\n",
    "A given portfolio's $\\beta$ beta value is the weighted sum of the stocks' betas within one portfolio\n",
    "<div style=\"text-align:center\"> $\\beta_a = w_1\\beta_1 + w_2\\beta_2 + \\cdots + w_n\\beta_n$ </p>\n",
    "\n",
    "The weights are the same as:\n",
    "\n",
    "\n",
    "    stock:     APPL   GOOGL   TSLA   GE\n",
    "    Precent:   20%    30%     25%    25%\n",
    "    Weight:    0.2    0.3     0.25   0.25\n",
    "    Weights = [0.2,0.3,0.25,0.25] = 1 (100%)\n",
    "\n"
   ]
  },
  {
   "cell_type": "code",
   "execution_count": null,
   "metadata": {
    "collapsed": true
   },
   "outputs": [],
   "source": []
  }
 ],
 "metadata": {
  "kernelspec": {
   "display_name": "Python 3",
   "language": "python",
   "name": "python3"
  },
  "language_info": {
   "codemirror_mode": {
    "name": "ipython",
    "version": 3
   },
   "file_extension": ".py",
   "mimetype": "text/x-python",
   "name": "python",
   "nbconvert_exporter": "python",
   "pygments_lexer": "ipython3",
   "version": "3.6.3"
  }
 },
 "nbformat": 4,
 "nbformat_minor": 2
}
